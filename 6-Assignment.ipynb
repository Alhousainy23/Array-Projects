{
 "cells": [
  {
   "attachments": {},
   "cell_type": "markdown",
   "metadata": {},
   "source": [
    "## 1- write a function that adds two vectors together"
   ]
  },
  {
   "cell_type": "code",
   "execution_count": 24,
   "metadata": {},
   "outputs": [
    {
     "name": "stdout",
     "output_type": "stream",
     "text": [
      "\t\t The Values Of Vector Num1 \n",
      " [1, 2, 3]\n",
      "**************************************************\n",
      "\t\t The Values Of Vector Num2 \n",
      " [4, 5, 6]\n",
      "**************************************************\n",
      "\t\t The Final Add Vetors Is \n",
      "  [5, 7, 9]\n",
      "****************************************\n"
     ]
    }
   ],
   "source": [
    "#First Program \n",
    "import numpy as np            \n",
    "def func_sum(num1,num2):\n",
    "    print('\\t\\t The Values Of Vector Num1 \\n',num1)\n",
    "    print('**'*25)\n",
    "    print('\\t\\t The Values Of Vector Num2 \\n',num2)\n",
    "    print('**'*25)\n",
    "    result1=[]\n",
    "    for i in range(len(num1)):\n",
    "        result1.append(num1[i]+num2[i])\n",
    "    return result1 \n",
    "print('\\t\\t The Final Add Vetors Is \\n ', func_sum([1, 2, 3], [4, 5, 6]))\n",
    "print('**'*20)\n",
    "#================================================================================\n",
    "#Second Program \n",
    "def func_add(num3,num4):\n",
    "    assert len(num3) == len(num4)\n",
    "    return [num3_i + num4_i for num3_i, num4_i in zip(num3, num4)]\n",
    "assert func_add([1, 2, 3], [4, 5, 6]) == [5, 7, 9]"
   ]
  },
  {
   "attachments": {},
   "cell_type": "markdown",
   "metadata": {},
   "source": [
    "## 2- Write a function that multiplies a scalar and a vector"
   ]
  },
  {
   "cell_type": "code",
   "execution_count": 3,
   "metadata": {},
   "outputs": [
    {
     "name": "stdout",
     "output_type": "stream",
     "text": [
      "The Number Of Scalar Is ==>  2\n",
      "The Vector Num6 Is ==>  [2, 4, 6]\n",
      "The Scalar Multiply Is (2,[2,4,6]) ==>  [4, 8, 12]\n",
      "=========================================================================\n",
      "The Scalar Number For Num1 Is ==>  2\n",
      "The Vector Num2 Is ==>  [2, 4, 6]\n",
      "The Final Result From Multiply Scalar With Vector (2,[2,4,6])==>  [4, 8, 12]\n"
     ]
    }
   ],
   "source": [
    "def func_mult(num5,num6):\n",
    "    print('The Number Of Scalar Is ==> ',num5)\n",
    "    print('The Vector Num6 Is ==> ',num6)\n",
    "    result = []\n",
    "    for i in num6:\n",
    "        #result.append(num5 * i)\n",
    "        result.append(np.dot(num5,i))    \n",
    "    return result \n",
    "print('The Scalar Multiply Is (2,[2,4,6]) ==> ',func_mult(2,[2,4,6]))\n",
    "print('=========================================================================')\n",
    "def func_mult1(num1,num2):\n",
    "    print('The Scalar Number For Num1 Is ==> ',num1)\n",
    "    print('The Vector Num2 Is ==> ',num2)\n",
    "    return [np.dot(num1 , i) for i in num2]\n",
    "print('The Final Result From Multiply Scalar With Vector (2,[2,4,6])==> ',func_mult1(2,[2,4,6]))"
   ]
  },
  {
   "attachments": {},
   "cell_type": "markdown",
   "metadata": {},
   "source": [
    "## 3-  Write a function that multiplies two vectors"
   ]
  },
  {
   "cell_type": "code",
   "execution_count": 4,
   "metadata": {},
   "outputs": [
    {
     "name": "stdout",
     "output_type": "stream",
     "text": [
      "The Final Result From Two Vectors ==>  32\n"
     ]
    },
    {
     "name": "stderr",
     "output_type": "stream",
     "text": [
      "C:\\Users\\Alhou\\AppData\\Local\\Temp\\ipykernel_15492\\2387247113.py:3: DeprecationWarning: Calling np.sum(generator) is deprecated, and in the future will give a different result. Use np.sum(np.fromiter(generator)) or the python sum builtin instead.\n",
      "  return np.sum(np.multiply(var1_i , var2_i) for var1_i , var2_i in zip (var1,var2))\n"
     ]
    }
   ],
   "source": [
    "def func_dot(var1,var2):\n",
    "    assert len(var1)== len (var2)\n",
    "    return np.sum(np.multiply(var1_i , var2_i) for var1_i , var2_i in zip (var1,var2))\n",
    "print('The Final Result From Two Vectors ==> ',func_dot([1,2,3],[4,5,6]))"
   ]
  },
  {
   "attachments": {},
   "cell_type": "markdown",
   "metadata": {},
   "source": [
    "## 4-  Write a function that takes a matrix and gives you its shape."
   ]
  },
  {
   "cell_type": "code",
   "execution_count": 5,
   "metadata": {},
   "outputs": [
    {
     "name": "stdout",
     "output_type": "stream",
     "text": [
      "The Shape Of Matrix[1,2,3],[4,5,6] By Using Function ==>  (2, 3)\n"
     ]
    }
   ],
   "source": [
    "def func_shape(S):\n",
    "    num_of_rows=len(S)\n",
    "    num_of_cols=len(S[0]) if S else 0\n",
    "    return num_of_rows,num_of_cols\n",
    "print('The Shape Of Matrix[1,2,3],[4,5,6] By Using Function ==> ',func_shape([[1, 2, 3], [4, 5, 6]]))"
   ]
  },
  {
   "attachments": {},
   "cell_type": "markdown",
   "metadata": {},
   "source": [
    "## 5-  Write a function that adds two matrices"
   ]
  },
  {
   "cell_type": "code",
   "execution_count": 6,
   "metadata": {},
   "outputs": [
    {
     "name": "stdout",
     "output_type": "stream",
     "text": [
      "[array([2, 4, 6]), array([ 8, 10, 12])]\n"
     ]
    }
   ],
   "source": [
    "def func_add1(M1,M2):\n",
    "    return [np.sum(M1_i,M2_i) for M1_i , M2_i in zip(M1,M2)]\n",
    "def Add_Matrix(Matrix1,Matrix2):\n",
    "    return list(np.add(Matrix1_i,Matrix2_i) for Matrix1_i ,Matrix2_i in zip(Matrix1,Matrix2))\n",
    "A = [[1, 2, 3], [4, 5, 6]]\n",
    "B = [[1, 2, 3], [4, 5, 6]]\n",
    "print(Add_Matrix(A,B))"
   ]
  },
  {
   "attachments": {},
   "cell_type": "markdown",
   "metadata": {},
   "source": [
    "## 6 -  Write a function that multiply two matrices element-wise"
   ]
  },
  {
   "cell_type": "code",
   "execution_count": 15,
   "metadata": {},
   "outputs": [
    {
     "name": "stdout",
     "output_type": "stream",
     "text": [
      "\tThe Matrix A Is \n",
      "  [[1 2 3]\n",
      " [4 5 6]]\n",
      "************************************************************\n",
      "\tThe Matrix B Is \n",
      "  [[1 2 3]\n",
      " [4 5 6]]\n",
      "************************************************************\n",
      "\t\t The Final Matrix C ==> (A * B ) Is \n",
      " [[ 1  4  9]\n",
      " [16 25 36]]\n"
     ]
    }
   ],
   "source": [
    "def mult_element_wise(var1, var2):\n",
    "     assert len(var1) == len(var2), \"Vectors must be the same length\"\n",
    "     return list (np.multiply(var1_i,var2_i) for var1_i , var2_i in zip (var1,var2)) \n",
    "def matrix_mult_element_wise(A, B):\n",
    "     print('\\tThe Matrix A Is \\n ',np.array(A))\n",
    "     print('**'*30)\n",
    "     print('\\tThe Matrix B Is \\n ',np.array(B))\n",
    "     print('**'*30)\n",
    "     c = []\n",
    "     for i in range(len(A)):\n",
    "         c.append(mult_element_wise(A[i], B[i]))\n",
    "     return np.array(c)\n",
    "A = [[1, 2, 3], [4, 5, 6]]\n",
    "B = [[1, 2, 3], [4, 5, 6]]\n",
    "print('\\t\\t The Final Matrix C ==> (A * B ) Is \\n',matrix_mult_element_wise(A, B))\n"
   ]
  },
  {
   "attachments": {},
   "cell_type": "markdown",
   "metadata": {},
   "source": [
    "## 7- Write a function that multiply a vector with a matrix"
   ]
  },
  {
   "cell_type": "code",
   "execution_count": 19,
   "metadata": {},
   "outputs": [
    {
     "name": "stdout",
     "output_type": "stream",
     "text": [
      "\tThe Matrix A Is \n",
      "  [[1 2]\n",
      " [3 4]\n",
      " [5 6]]\n",
      "************************************************************\n",
      "\tThe Matrix B Is \n",
      "  [[1 2 3]\n",
      " [4 5 6]]\n",
      "************************************************************\n",
      "The Final Matrix C ==> (A * B ) Is ==>  [1.5 3.5 5.5]\n"
     ]
    }
   ],
   "source": [
    "def dot(num1, num2):\n",
    "    assert len(num1) == len(num2), \"Vectors must be the same length\"\n",
    "    return np.sum(list(np.multiply(num1_i,num2_i) for num1_i,num2_i in zip(num1,num2)))\n",
    "def matrix_mult_vector(A, b):\n",
    "    print('\\tThe Matrix A Is \\n ',np.array(A))\n",
    "    print('**'*30)\n",
    "    print('\\tThe Matrix B Is \\n ',np.array(B))\n",
    "    print('**'*30)\n",
    "    c = []\n",
    "    for i in range(len(A)):\n",
    "         c.append(dot(A[i], b))\n",
    "    return np.array(c)\n",
    "A = [[1, 2], [3, 4], [5, 6]]\n",
    "b = [0.5, 0.5]\n",
    "print('The Final Matrix C ==> (A * B ) Is ==> ',matrix_mult_vector(A, b))"
   ]
  },
  {
   "attachments": {},
   "cell_type": "markdown",
   "metadata": {},
   "source": [
    "## 8-Write a function that multiplies a matrix by a scalar\n"
   ]
  },
  {
   "cell_type": "code",
   "execution_count": 9,
   "metadata": {},
   "outputs": [
    {
     "name": "stdout",
     "output_type": "stream",
     "text": [
      "[[0.5, 1.0], [1.5, 2.0], [2.5, 3.0]]\n"
     ]
    }
   ],
   "source": [
    "def scaler_multiply(c, v):\n",
    "    return [c * v_i for v_i in v]\n",
    "def matrix_mult_scaler(A, b):\n",
    "     c = []\n",
    "     for i in range(len(A)):\n",
    "         c.append(scaler_multiply(b, A[i]))\n",
    "     return c\n",
    "A = [[1, 2], [3, 4], [5, 6]]\n",
    "b = 0.5\n",
    "print(matrix_mult_scaler(A, b))"
   ]
  }
 ],
 "metadata": {
  "kernelspec": {
   "display_name": "Python 3",
   "language": "python",
   "name": "python3"
  },
  "language_info": {
   "codemirror_mode": {
    "name": "ipython",
    "version": 3
   },
   "file_extension": ".py",
   "mimetype": "text/x-python",
   "name": "python",
   "nbconvert_exporter": "python",
   "pygments_lexer": "ipython3",
   "version": "3.10.0"
  },
  "orig_nbformat": 4,
  "vscode": {
   "interpreter": {
    "hash": "f14a256fa5d2abe453c482b40db541c720d938562dda362430172368847a78a4"
   }
  }
 },
 "nbformat": 4,
 "nbformat_minor": 2
}
