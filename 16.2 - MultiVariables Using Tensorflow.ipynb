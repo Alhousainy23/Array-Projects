{
 "cells": [
  {
   "cell_type": "code",
   "execution_count": 1,
   "metadata": {},
   "outputs": [],
   "source": [
    "import tensorflow as tf      \n",
    "#importing all the libraries\n",
    "import numpy as np\n",
    "import matplotlib.pyplot as plt\n",
    "import pandas as pd\n",
    "import seaborn as sns\n",
    "from scikeras.wrappers import KerasRegressor\n",
    "from sklearn.model_selection import cross_val_score\n",
    "from sklearn.model_selection import KFold\n",
    "from sklearn.preprocessing import StandardScaler\n",
    "from sklearn.pipeline import Pipeline"
   ]
  },
  {
   "attachments": {},
   "cell_type": "markdown",
   "metadata": {},
   "source": [
    "# Loaded Needed Data"
   ]
  },
  {
   "cell_type": "code",
   "execution_count": 2,
   "metadata": {},
   "outputs": [
    {
     "data": {
      "text/html": [
       "<div>\n",
       "<style scoped>\n",
       "    .dataframe tbody tr th:only-of-type {\n",
       "        vertical-align: middle;\n",
       "    }\n",
       "\n",
       "    .dataframe tbody tr th {\n",
       "        vertical-align: top;\n",
       "    }\n",
       "\n",
       "    .dataframe thead th {\n",
       "        text-align: right;\n",
       "    }\n",
       "</style>\n",
       "<table border=\"1\" class=\"dataframe\">\n",
       "  <thead>\n",
       "    <tr style=\"text-align: right;\">\n",
       "      <th></th>\n",
       "      <th>id</th>\n",
       "      <th>date</th>\n",
       "      <th>price</th>\n",
       "      <th>bedrooms</th>\n",
       "      <th>bathrooms</th>\n",
       "      <th>sqft_living</th>\n",
       "      <th>sqft_lot</th>\n",
       "      <th>floors</th>\n",
       "      <th>waterfront</th>\n",
       "      <th>view</th>\n",
       "      <th>...</th>\n",
       "      <th>grade</th>\n",
       "      <th>sqft_above</th>\n",
       "      <th>sqft_basement</th>\n",
       "      <th>yr_built</th>\n",
       "      <th>yr_renovated</th>\n",
       "      <th>zipcode</th>\n",
       "      <th>lat</th>\n",
       "      <th>long</th>\n",
       "      <th>sqft_living15</th>\n",
       "      <th>sqft_lot15</th>\n",
       "    </tr>\n",
       "  </thead>\n",
       "  <tbody>\n",
       "    <tr>\n",
       "      <th>0</th>\n",
       "      <td>7129300520</td>\n",
       "      <td>20141013T000000</td>\n",
       "      <td>221900.0</td>\n",
       "      <td>3</td>\n",
       "      <td>1.00</td>\n",
       "      <td>1180</td>\n",
       "      <td>5650</td>\n",
       "      <td>1.0</td>\n",
       "      <td>0</td>\n",
       "      <td>0</td>\n",
       "      <td>...</td>\n",
       "      <td>7</td>\n",
       "      <td>1180</td>\n",
       "      <td>0</td>\n",
       "      <td>1955</td>\n",
       "      <td>0</td>\n",
       "      <td>98178</td>\n",
       "      <td>47.5112</td>\n",
       "      <td>-122.257</td>\n",
       "      <td>1340</td>\n",
       "      <td>5650</td>\n",
       "    </tr>\n",
       "    <tr>\n",
       "      <th>1</th>\n",
       "      <td>6414100192</td>\n",
       "      <td>20141209T000000</td>\n",
       "      <td>538000.0</td>\n",
       "      <td>3</td>\n",
       "      <td>2.25</td>\n",
       "      <td>2570</td>\n",
       "      <td>7242</td>\n",
       "      <td>2.0</td>\n",
       "      <td>0</td>\n",
       "      <td>0</td>\n",
       "      <td>...</td>\n",
       "      <td>7</td>\n",
       "      <td>2170</td>\n",
       "      <td>400</td>\n",
       "      <td>1951</td>\n",
       "      <td>1991</td>\n",
       "      <td>98125</td>\n",
       "      <td>47.7210</td>\n",
       "      <td>-122.319</td>\n",
       "      <td>1690</td>\n",
       "      <td>7639</td>\n",
       "    </tr>\n",
       "    <tr>\n",
       "      <th>2</th>\n",
       "      <td>5631500400</td>\n",
       "      <td>20150225T000000</td>\n",
       "      <td>180000.0</td>\n",
       "      <td>2</td>\n",
       "      <td>1.00</td>\n",
       "      <td>770</td>\n",
       "      <td>10000</td>\n",
       "      <td>1.0</td>\n",
       "      <td>0</td>\n",
       "      <td>0</td>\n",
       "      <td>...</td>\n",
       "      <td>6</td>\n",
       "      <td>770</td>\n",
       "      <td>0</td>\n",
       "      <td>1933</td>\n",
       "      <td>0</td>\n",
       "      <td>98028</td>\n",
       "      <td>47.7379</td>\n",
       "      <td>-122.233</td>\n",
       "      <td>2720</td>\n",
       "      <td>8062</td>\n",
       "    </tr>\n",
       "    <tr>\n",
       "      <th>3</th>\n",
       "      <td>2487200875</td>\n",
       "      <td>20141209T000000</td>\n",
       "      <td>604000.0</td>\n",
       "      <td>4</td>\n",
       "      <td>3.00</td>\n",
       "      <td>1960</td>\n",
       "      <td>5000</td>\n",
       "      <td>1.0</td>\n",
       "      <td>0</td>\n",
       "      <td>0</td>\n",
       "      <td>...</td>\n",
       "      <td>7</td>\n",
       "      <td>1050</td>\n",
       "      <td>910</td>\n",
       "      <td>1965</td>\n",
       "      <td>0</td>\n",
       "      <td>98136</td>\n",
       "      <td>47.5208</td>\n",
       "      <td>-122.393</td>\n",
       "      <td>1360</td>\n",
       "      <td>5000</td>\n",
       "    </tr>\n",
       "    <tr>\n",
       "      <th>4</th>\n",
       "      <td>1954400510</td>\n",
       "      <td>20150218T000000</td>\n",
       "      <td>510000.0</td>\n",
       "      <td>3</td>\n",
       "      <td>2.00</td>\n",
       "      <td>1680</td>\n",
       "      <td>8080</td>\n",
       "      <td>1.0</td>\n",
       "      <td>0</td>\n",
       "      <td>0</td>\n",
       "      <td>...</td>\n",
       "      <td>8</td>\n",
       "      <td>1680</td>\n",
       "      <td>0</td>\n",
       "      <td>1987</td>\n",
       "      <td>0</td>\n",
       "      <td>98074</td>\n",
       "      <td>47.6168</td>\n",
       "      <td>-122.045</td>\n",
       "      <td>1800</td>\n",
       "      <td>7503</td>\n",
       "    </tr>\n",
       "  </tbody>\n",
       "</table>\n",
       "<p>5 rows × 21 columns</p>\n",
       "</div>"
      ],
      "text/plain": [
       "           id             date     price  bedrooms  bathrooms  sqft_living  \\\n",
       "0  7129300520  20141013T000000  221900.0         3       1.00         1180   \n",
       "1  6414100192  20141209T000000  538000.0         3       2.25         2570   \n",
       "2  5631500400  20150225T000000  180000.0         2       1.00          770   \n",
       "3  2487200875  20141209T000000  604000.0         4       3.00         1960   \n",
       "4  1954400510  20150218T000000  510000.0         3       2.00         1680   \n",
       "\n",
       "   sqft_lot  floors  waterfront  view  ...  grade  sqft_above  sqft_basement  \\\n",
       "0      5650     1.0           0     0  ...      7        1180              0   \n",
       "1      7242     2.0           0     0  ...      7        2170            400   \n",
       "2     10000     1.0           0     0  ...      6         770              0   \n",
       "3      5000     1.0           0     0  ...      7        1050            910   \n",
       "4      8080     1.0           0     0  ...      8        1680              0   \n",
       "\n",
       "   yr_built  yr_renovated  zipcode      lat     long  sqft_living15  \\\n",
       "0      1955             0    98178  47.5112 -122.257           1340   \n",
       "1      1951          1991    98125  47.7210 -122.319           1690   \n",
       "2      1933             0    98028  47.7379 -122.233           2720   \n",
       "3      1965             0    98136  47.5208 -122.393           1360   \n",
       "4      1987             0    98074  47.6168 -122.045           1800   \n",
       "\n",
       "   sqft_lot15  \n",
       "0        5650  \n",
       "1        7639  \n",
       "2        8062  \n",
       "3        5000  \n",
       "4        7503  \n",
       "\n",
       "[5 rows x 21 columns]"
      ]
     },
     "execution_count": 2,
     "metadata": {},
     "output_type": "execute_result"
    }
   ],
   "source": [
    "#21 Columns\n",
    "#columns_name = ['id','date','price','bedrooms','bathrooms','sqft_living','sqft_lot','floors','waterfront','view','condition','condition','grade','sqft_above',\n",
    "#                'sqft_basement','yr_built','yr_renovated','zipcode','lat','long','sqft_living15','sqft_lot15']\n",
    "dataset =pd.read_csv('D:\\\\Array Diploma\\\\Data\\\\kc_house_data - kc_house_data.csv')\n",
    "#importing dataset using panda\n",
    "#to see what my dataset is comprised of\n",
    "dataset.head()"
   ]
  },
  {
   "attachments": {},
   "cell_type": "markdown",
   "metadata": {},
   "source": [
    "1. Copy Data"
   ]
  },
  {
   "cell_type": "code",
   "execution_count": 3,
   "metadata": {},
   "outputs": [],
   "source": [
    "data =dataset.copy()"
   ]
  },
  {
   "cell_type": "code",
   "execution_count": 4,
   "metadata": {},
   "outputs": [],
   "source": [
    "#Make Drop Data\n",
    "data.isna().sum()\n",
    "data = dataset.dropna()"
   ]
  },
  {
   "cell_type": "code",
   "execution_count": 5,
   "metadata": {},
   "outputs": [],
   "source": [
    "#dropping the id and date column\n",
    "data=data.drop(['id','date'],axis=1)"
   ]
  },
  {
   "cell_type": "code",
   "execution_count": 6,
   "metadata": {},
   "outputs": [
    {
     "data": {
      "text/html": [
       "<div>\n",
       "<style scoped>\n",
       "    .dataframe tbody tr th:only-of-type {\n",
       "        vertical-align: middle;\n",
       "    }\n",
       "\n",
       "    .dataframe tbody tr th {\n",
       "        vertical-align: top;\n",
       "    }\n",
       "\n",
       "    .dataframe thead th {\n",
       "        text-align: right;\n",
       "    }\n",
       "</style>\n",
       "<table border=\"1\" class=\"dataframe\">\n",
       "  <thead>\n",
       "    <tr style=\"text-align: right;\">\n",
       "      <th></th>\n",
       "      <th>price</th>\n",
       "      <th>bedrooms</th>\n",
       "      <th>bathrooms</th>\n",
       "      <th>sqft_living</th>\n",
       "      <th>sqft_lot</th>\n",
       "      <th>floors</th>\n",
       "      <th>waterfront</th>\n",
       "      <th>view</th>\n",
       "      <th>condition</th>\n",
       "      <th>grade</th>\n",
       "      <th>sqft_above</th>\n",
       "      <th>sqft_basement</th>\n",
       "      <th>yr_built</th>\n",
       "      <th>yr_renovated</th>\n",
       "      <th>zipcode</th>\n",
       "      <th>lat</th>\n",
       "      <th>long</th>\n",
       "      <th>sqft_living15</th>\n",
       "      <th>sqft_lot15</th>\n",
       "    </tr>\n",
       "  </thead>\n",
       "  <tbody>\n",
       "    <tr>\n",
       "      <th>0</th>\n",
       "      <td>221900.0</td>\n",
       "      <td>3</td>\n",
       "      <td>1.00</td>\n",
       "      <td>1180</td>\n",
       "      <td>5650</td>\n",
       "      <td>1.0</td>\n",
       "      <td>0</td>\n",
       "      <td>0</td>\n",
       "      <td>3</td>\n",
       "      <td>7</td>\n",
       "      <td>1180</td>\n",
       "      <td>0</td>\n",
       "      <td>1955</td>\n",
       "      <td>0</td>\n",
       "      <td>98178</td>\n",
       "      <td>47.5112</td>\n",
       "      <td>-122.257</td>\n",
       "      <td>1340</td>\n",
       "      <td>5650</td>\n",
       "    </tr>\n",
       "    <tr>\n",
       "      <th>1</th>\n",
       "      <td>538000.0</td>\n",
       "      <td>3</td>\n",
       "      <td>2.25</td>\n",
       "      <td>2570</td>\n",
       "      <td>7242</td>\n",
       "      <td>2.0</td>\n",
       "      <td>0</td>\n",
       "      <td>0</td>\n",
       "      <td>3</td>\n",
       "      <td>7</td>\n",
       "      <td>2170</td>\n",
       "      <td>400</td>\n",
       "      <td>1951</td>\n",
       "      <td>1991</td>\n",
       "      <td>98125</td>\n",
       "      <td>47.7210</td>\n",
       "      <td>-122.319</td>\n",
       "      <td>1690</td>\n",
       "      <td>7639</td>\n",
       "    </tr>\n",
       "    <tr>\n",
       "      <th>2</th>\n",
       "      <td>180000.0</td>\n",
       "      <td>2</td>\n",
       "      <td>1.00</td>\n",
       "      <td>770</td>\n",
       "      <td>10000</td>\n",
       "      <td>1.0</td>\n",
       "      <td>0</td>\n",
       "      <td>0</td>\n",
       "      <td>3</td>\n",
       "      <td>6</td>\n",
       "      <td>770</td>\n",
       "      <td>0</td>\n",
       "      <td>1933</td>\n",
       "      <td>0</td>\n",
       "      <td>98028</td>\n",
       "      <td>47.7379</td>\n",
       "      <td>-122.233</td>\n",
       "      <td>2720</td>\n",
       "      <td>8062</td>\n",
       "    </tr>\n",
       "    <tr>\n",
       "      <th>3</th>\n",
       "      <td>604000.0</td>\n",
       "      <td>4</td>\n",
       "      <td>3.00</td>\n",
       "      <td>1960</td>\n",
       "      <td>5000</td>\n",
       "      <td>1.0</td>\n",
       "      <td>0</td>\n",
       "      <td>0</td>\n",
       "      <td>5</td>\n",
       "      <td>7</td>\n",
       "      <td>1050</td>\n",
       "      <td>910</td>\n",
       "      <td>1965</td>\n",
       "      <td>0</td>\n",
       "      <td>98136</td>\n",
       "      <td>47.5208</td>\n",
       "      <td>-122.393</td>\n",
       "      <td>1360</td>\n",
       "      <td>5000</td>\n",
       "    </tr>\n",
       "    <tr>\n",
       "      <th>4</th>\n",
       "      <td>510000.0</td>\n",
       "      <td>3</td>\n",
       "      <td>2.00</td>\n",
       "      <td>1680</td>\n",
       "      <td>8080</td>\n",
       "      <td>1.0</td>\n",
       "      <td>0</td>\n",
       "      <td>0</td>\n",
       "      <td>3</td>\n",
       "      <td>8</td>\n",
       "      <td>1680</td>\n",
       "      <td>0</td>\n",
       "      <td>1987</td>\n",
       "      <td>0</td>\n",
       "      <td>98074</td>\n",
       "      <td>47.6168</td>\n",
       "      <td>-122.045</td>\n",
       "      <td>1800</td>\n",
       "      <td>7503</td>\n",
       "    </tr>\n",
       "  </tbody>\n",
       "</table>\n",
       "</div>"
      ],
      "text/plain": [
       "      price  bedrooms  bathrooms  sqft_living  sqft_lot  floors  waterfront  \\\n",
       "0  221900.0         3       1.00         1180      5650     1.0           0   \n",
       "1  538000.0         3       2.25         2570      7242     2.0           0   \n",
       "2  180000.0         2       1.00          770     10000     1.0           0   \n",
       "3  604000.0         4       3.00         1960      5000     1.0           0   \n",
       "4  510000.0         3       2.00         1680      8080     1.0           0   \n",
       "\n",
       "   view  condition  grade  sqft_above  sqft_basement  yr_built  yr_renovated  \\\n",
       "0     0          3      7        1180              0      1955             0   \n",
       "1     0          3      7        2170            400      1951          1991   \n",
       "2     0          3      6         770              0      1933             0   \n",
       "3     0          5      7        1050            910      1965             0   \n",
       "4     0          3      8        1680              0      1987             0   \n",
       "\n",
       "   zipcode      lat     long  sqft_living15  sqft_lot15  \n",
       "0    98178  47.5112 -122.257           1340        5650  \n",
       "1    98125  47.7210 -122.319           1690        7639  \n",
       "2    98028  47.7379 -122.233           2720        8062  \n",
       "3    98136  47.5208 -122.393           1360        5000  \n",
       "4    98074  47.6168 -122.045           1800        7503  "
      ]
     },
     "execution_count": 6,
     "metadata": {},
     "output_type": "execute_result"
    }
   ],
   "source": [
    "data.head()"
   ]
  },
  {
   "cell_type": "code",
   "execution_count": 52,
   "metadata": {},
   "outputs": [],
   "source": [
    "data = data.astype(float)\n",
    "from sklearn.preprocessing import StandardScaler\n",
    "Scalar1 = StandardScaler()\n",
    "data = Scalar1.fit_transform(data)"
   ]
  },
  {
   "cell_type": "code",
   "execution_count": 54,
   "metadata": {},
   "outputs": [
    {
     "name": "stdout",
     "output_type": "stream",
     "text": [
      "The Shape Of X Data Is ==>  (21613, 18)\n",
      "The Shape Of Y Data Is ==>  (21613,)\n"
     ]
    }
   ],
   "source": [
    "x = data[:,1:]\n",
    "y = data[:,0]\n",
    "print('The Shape Of X Data Is ==> ',x.shape)\n",
    "print('The Shape Of Y Data Is ==> ',y.shape)\n",
    "#splitting dataset into training and testing dataset\n",
    "from sklearn.model_selection import train_test_split\n",
    "x_train,x_test,y_train,y_test=train_test_split(x,y,test_size=0.1,random_state=0)"
   ]
  },
  {
   "cell_type": "code",
   "execution_count": 55,
   "metadata": {},
   "outputs": [],
   "source": [
    "# Create TensorFlow datasets from the training and testing sets\n",
    "#train_dataset = tf.data.Dataset.from_tensor_slices((x_train, y_train))\n",
    "#test_dataset = tf.data.Dataset.from_tensor_slices((x_test, y_test))"
   ]
  },
  {
   "attachments": {},
   "cell_type": "markdown",
   "metadata": {},
   "source": [
    "* Make Normalization For x data only"
   ]
  },
  {
   "cell_type": "code",
   "execution_count": 56,
   "metadata": {},
   "outputs": [],
   "source": [
    "#x_train = tf.keras.utils.normalize(x_train,axis=0)\n",
    "#x_train = x_train/255.0\n",
    "#x_test = tf.keras.utils.normalize(x_test,axis=0)\n",
    "#x_test = x_test /255.0"
   ]
  },
  {
   "cell_type": "code",
   "execution_count": 61,
   "metadata": {},
   "outputs": [
    {
     "name": "stdout",
     "output_type": "stream",
     "text": [
      "\t\t The X Train Data Is : \n",
      " [[-0.39873715  0.50022075 -0.09788525 -0.26719186  0.01053939 -0.08717263\n",
      "  -0.30575946  2.44429394  0.29191561 -0.48110645  0.69705262 -1.53220807\n",
      "  -0.21012839  0.4683817   0.91402295 -0.9948767  -1.17680389 -0.35667363]\n",
      " [-0.39873715 -0.79823546 -1.30648308 -0.2053853  -0.915427   -0.08717263\n",
      "  -0.30575946  2.44429394 -1.40958711 -1.09699505 -0.65868104 -0.8853496\n",
      "  -0.21012839  1.87015159 -0.43195945 -0.23506888 -1.41025258 -0.2259214 ]\n",
      " [-0.39873715  0.1756067  -0.48986293 -0.17399916 -0.915427   -0.08717263\n",
      "  -0.30575946  0.90755354 -0.55883575 -0.79508887  0.47109701  0.06791552\n",
      "  -0.21012839 -1.02683953 -1.82196593 -1.15819987 -0.52022945 -0.16732095]\n",
      " [ 0.67648506  0.50022075  1.39380757 -0.08592482  0.93650577 -0.08717263\n",
      "  -0.30575946 -0.62918687  1.14266697  1.89791425 -0.65868104  0.57859326\n",
      "  -0.21012839 -0.83993687  0.67369472  0.22649662  2.06229668  0.04843855]\n",
      " [-0.39873715  1.14944885  0.8276176   4.63073639  0.93650577 -0.08717263\n",
      "  -0.30575946 -0.62918687  1.99341833  1.2699494  -0.65868104  0.95309026\n",
      "  -0.21012839 -0.35398998 -0.65713184  1.07151652  0.12175445  0.45043759]]\n",
      "------------------------------------------------------------------------------------------\n",
      "\t\t The X Test Data : \n",
      " [[-1.47395936 -0.79823546 -0.7076283  -0.32489408  2.78843855 -0.08717263\n",
      "  -0.30575946 -0.62918687 -0.55883575 -0.43280146 -0.65868104  0.95309026\n",
      "  -0.21012839  0.87956753  1.17022871 -0.54041221 -0.81204031 -0.40721652]\n",
      " [ 0.67648506  1.47406291  2.82017079  0.88675588  0.93650577 -0.08717263\n",
      "  -0.30575946  0.90755354  3.69492105  3.47990264 -0.65868104  0.57859326\n",
      "  -0.21012839 -1.3632643   0.54090075  0.35431475  3.27331175  1.03673502]\n",
      " [-1.47395936 -1.77207762 -0.69674003 -0.27540055 -0.915427   -0.08717263\n",
      "  -0.30575946 -0.62918687 -0.55883575 -0.71055514 -0.11638758 -1.94075026\n",
      "  -0.21012839  0.54314276  0.79854993 -1.06588678 -0.79744977 -0.31015953]\n",
      " [-1.47395936 -1.44746357 -1.03427636 -0.30099232 -0.915427   -0.08717263\n",
      "  -0.30575946  0.90755354  0.29191561 -0.79508887 -0.65868104 -1.49816288\n",
      "  -0.21012839  0.58052329  0.60441091 -1.01617972 -0.44727673 -0.35044734]\n",
      " [ 0.67648506  0.50022075  1.19781874 -0.13288332  0.93650577 -0.08717263\n",
      "   2.30418496 -0.62918687  1.14266697  1.6805418  -0.65868104  1.05522581\n",
      "  -0.21012839  1.44027549  1.52747337 -0.44809911  0.66160454  0.09129013]]\n"
     ]
    }
   ],
   "source": [
    "data\n",
    "print('\\t\\t The X Train Data Is : \\n',x_train[:5])\n",
    "print('---'*30)\n",
    "print('\\t\\t The X Test Data : \\n',x_test[:5])"
   ]
  },
  {
   "attachments": {},
   "cell_type": "markdown",
   "metadata": {},
   "source": [
    "* Show Y train & Y Test Data"
   ]
  },
  {
   "cell_type": "code",
   "execution_count": 66,
   "metadata": {},
   "outputs": [
    {
     "name": "stdout",
     "output_type": "stream",
     "text": [
      "The Y Train Data Is ==>  [0.10566883557127969, -0.7817591955967205, -0.8402858909038126, 1.115594601102961, 0.6800471011432062, -0.6540893346710174, -0.3135456331399842, -0.7036328627914396]\n",
      "------------------------------------------------------------------------------------------------------------------------------------------------------\n",
      "The Y Test Data Is  ==>  [-0.661983633107788, 2.8305628821944953, 0.0596641308880306, 0.2485828589955742, 0.6528253823957215, -0.1502153206550762, -0.5449302424936039, -0.5568914657112487]\n"
     ]
    }
   ],
   "source": [
    "print('The Y Train Data Is ==> ',list(y_train[:8]))\n",
    "print('---'*50)\n",
    "print('The Y Test Data Is  ==> ',list(y_test[:8]))"
   ]
  },
  {
   "attachments": {},
   "cell_type": "markdown",
   "metadata": {},
   "source": [
    "# Create Neural Networks"
   ]
  },
  {
   "cell_type": "code",
   "execution_count": 94,
   "metadata": {},
   "outputs": [],
   "source": [
    "model = tf.keras.models.Sequential()\n",
    "model.add(tf.keras.layers.Dense(512,kernel_initializer='random_normal',bias_initializer=tf.keras.initializers.Zeros(),activation=tf.nn.relu))# Layer 1\n",
    "model.add(tf.keras.layers.Dense(512,kernel_initializer='random_normal',bias_initializer=tf.keras.initializers.Zeros(),activation=tf.nn.relu))# Layer 2\n",
    "model.add(tf.keras.layers.Dropout(0.2))#Drop 20 % From Data\n",
    "model.add(tf.keras.layers.Dense(256,kernel_initializer='random_normal',bias_initializer=tf.keras.initializers.Zeros(),activation=tf.nn.relu))#Layer 3\n",
    "model.add(tf.keras.layers.Dense(256,kernel_initializer='random_normal',bias_initializer=tf.keras.initializers.Zeros(),activation=tf.nn.relu))# Layer 4\n",
    "model.add(tf.keras.layers.Dense(128,kernel_initializer='random_normal',bias_initializer=tf.keras.initializers.Zeros(),activation=tf.nn.relu))# Layer 5\n",
    "model.add(tf.keras.layers.Dense(128,kernel_initializer='random_normal',bias_initializer=tf.keras.initializers.Zeros(),activation=tf.nn.relu))#Layer 6\n",
    "model.add(tf.keras.layers.Dense(64,kernel_initializer='random_normal',bias_initializer=tf.keras.initializers.Zeros(),activation=tf.nn.relu))#Layer 7\n",
    "model.add(tf.keras.layers.Dense(32,kernel_initializer='random_normal',bias_initializer=tf.keras.initializers.Zeros(),activation=tf.nn.relu))# Layer 8\n",
    "model.add(tf.keras.layers.Dense(16,kernel_initializer=tf.keras.initializers.RandomNormal(mean=0.0,stddev=0.01),bias_initializer=tf.keras.initializers.Zeros(),activation=tf.nn.tanh))#Layer 9\n",
    "model.add(tf.keras.layers.Dense(1))#Layer 10"
   ]
  },
  {
   "attachments": {},
   "cell_type": "markdown",
   "metadata": {},
   "source": [
    "* Make Optimizer and Training For Model"
   ]
  },
  {
   "cell_type": "code",
   "execution_count": 100,
   "metadata": {},
   "outputs": [],
   "source": [
    "optimizer = tf.keras.optimizers.RMSprop(0.002)\n",
    "model.compile(optimizer=optimizer,loss='mean_squared_error',metrics=['mean_absolute_error','mean_squared_error','accuracy'])"
   ]
  },
  {
   "attachments": {},
   "cell_type": "markdown",
   "metadata": {},
   "source": [
    "* Model Training"
   ]
  },
  {
   "cell_type": "code",
   "execution_count": 96,
   "metadata": {},
   "outputs": [
    {
     "name": "stdout",
     "output_type": "stream",
     "text": [
      "(19451, 18)\n",
      "(19451,)\n",
      "(2162, 18)\n",
      "(2162,)\n"
     ]
    }
   ],
   "source": [
    "print(x_train.shape)\n",
    "print(y_train.shape)\n",
    "print(x_test.shape)\n",
    "print(y_test.shape)"
   ]
  },
  {
   "cell_type": "code",
   "execution_count": 101,
   "metadata": {},
   "outputs": [
    {
     "name": "stdout",
     "output_type": "stream",
     "text": [
      "Epoch 1/20\n",
      "608/608 [==============================] - 8s 11ms/step - loss: 0.1071 - mean_absolute_error: 0.1898 - mean_squared_error: 0.1071 - accuracy: 0.0000e+00\n",
      "Epoch 2/20\n",
      "608/608 [==============================] - 7s 11ms/step - loss: 0.1041 - mean_absolute_error: 0.1883 - mean_squared_error: 0.1041 - accuracy: 0.0000e+00\n",
      "Epoch 3/20\n",
      "608/608 [==============================] - 6s 11ms/step - loss: 0.1011 - mean_absolute_error: 0.1881 - mean_squared_error: 0.1011 - accuracy: 0.0000e+00\n",
      "Epoch 4/20\n",
      "608/608 [==============================] - 6s 11ms/step - loss: 0.0982 - mean_absolute_error: 0.1856 - mean_squared_error: 0.0982 - accuracy: 0.0000e+00\n",
      "Epoch 5/20\n",
      "608/608 [==============================] - 7s 11ms/step - loss: 0.0975 - mean_absolute_error: 0.1862 - mean_squared_error: 0.0975 - accuracy: 0.0000e+00\n",
      "Epoch 6/20\n",
      "608/608 [==============================] - 6s 11ms/step - loss: 0.0954 - mean_absolute_error: 0.1846 - mean_squared_error: 0.0954 - accuracy: 0.0000e+00\n",
      "Epoch 7/20\n",
      "608/608 [==============================] - 6s 10ms/step - loss: 0.0939 - mean_absolute_error: 0.1848 - mean_squared_error: 0.0939 - accuracy: 0.0000e+00\n",
      "Epoch 8/20\n",
      "608/608 [==============================] - 6s 10ms/step - loss: 0.0954 - mean_absolute_error: 0.1848 - mean_squared_error: 0.0954 - accuracy: 0.0000e+00\n",
      "Epoch 9/20\n",
      "608/608 [==============================] - 6s 11ms/step - loss: 0.0913 - mean_absolute_error: 0.1821 - mean_squared_error: 0.0913 - accuracy: 0.0000e+00\n",
      "Epoch 10/20\n",
      "608/608 [==============================] - 7s 11ms/step - loss: 0.0912 - mean_absolute_error: 0.1828 - mean_squared_error: 0.0912 - accuracy: 0.0000e+00\n",
      "Epoch 11/20\n",
      "608/608 [==============================] - 7s 11ms/step - loss: 0.0904 - mean_absolute_error: 0.1820 - mean_squared_error: 0.0904 - accuracy: 0.0000e+00\n",
      "Epoch 12/20\n",
      "608/608 [==============================] - 7s 11ms/step - loss: 0.0891 - mean_absolute_error: 0.1811 - mean_squared_error: 0.0891 - accuracy: 0.0000e+00\n",
      "Epoch 13/20\n",
      "608/608 [==============================] - 7s 11ms/step - loss: 0.0869 - mean_absolute_error: 0.1801 - mean_squared_error: 0.0869 - accuracy: 0.0000e+00\n",
      "Epoch 14/20\n",
      "608/608 [==============================] - 7s 11ms/step - loss: 0.0875 - mean_absolute_error: 0.1796 - mean_squared_error: 0.0875 - accuracy: 0.0000e+00\n",
      "Epoch 15/20\n",
      "608/608 [==============================] - 7s 11ms/step - loss: 0.0860 - mean_absolute_error: 0.1795 - mean_squared_error: 0.0860 - accuracy: 0.0000e+00\n",
      "Epoch 16/20\n",
      "608/608 [==============================] - 7s 11ms/step - loss: 0.0830 - mean_absolute_error: 0.1772 - mean_squared_error: 0.0830 - accuracy: 0.0000e+00\n",
      "Epoch 17/20\n",
      "608/608 [==============================] - 7s 11ms/step - loss: 0.0837 - mean_absolute_error: 0.1773 - mean_squared_error: 0.0837 - accuracy: 0.0000e+00\n",
      "Epoch 18/20\n",
      "608/608 [==============================] - 7s 12ms/step - loss: 0.0804 - mean_absolute_error: 0.1767 - mean_squared_error: 0.0804 - accuracy: 0.0000e+00\n",
      "Epoch 19/20\n",
      "608/608 [==============================] - 7s 11ms/step - loss: 0.0830 - mean_absolute_error: 0.1780 - mean_squared_error: 0.0830 - accuracy: 0.0000e+00\n",
      "Epoch 20/20\n",
      "608/608 [==============================] - 7s 11ms/step - loss: 0.0808 - mean_absolute_error: 0.1757 - mean_squared_error: 0.0808 - accuracy: 0.0000e+00\n"
     ]
    },
    {
     "data": {
      "text/plain": [
       "<keras.callbacks.History at 0x1cb2f7306d0>"
      ]
     },
     "execution_count": 101,
     "metadata": {},
     "output_type": "execute_result"
    }
   ],
   "source": [
    "model.fit(x_train,y_train,epochs=20)"
   ]
  },
  {
   "cell_type": "code",
   "execution_count": 102,
   "metadata": {},
   "outputs": [
    {
     "name": "stdout",
     "output_type": "stream",
     "text": [
      "608/608 [==============================] - 1s 2ms/step - loss: 0.0000e+00 - mean_absolute_error: 0.0000e+00 - mean_squared_error: 0.0000e+00 - accuracy: 0.0000e+00\n",
      "68/68 [==============================] - 0s 2ms/step - loss: 0.0000e+00 - mean_absolute_error: 0.0000e+00 - mean_squared_error: 0.0000e+00 - accuracy: 0.0000e+00\n",
      "The Lost Evluate Is ==>  [0.0, 0.0, 0.0, 0.0]\n",
      "The Accuarcy Evluate Is ==>  [0.0, 0.0, 0.0, 0.0]\n"
     ]
    }
   ],
   "source": [
    "#model.fit(x_train, y_train, epochs=20,validation_split = 0.2, verbose=0)\n",
    "accuracy_evaluate=model.evaluate(x_train)\n",
    "loss_evaluate = model.evaluate(x_test)\n",
    "print('The Lost Evluate Is ==> ',loss_evaluate)\n",
    "print('The Accuarcy Evluate Is ==> ',accuracy_evaluate)"
   ]
  },
  {
   "cell_type": "code",
   "execution_count": 104,
   "metadata": {},
   "outputs": [
    {
     "name": "stdout",
     "output_type": "stream",
     "text": [
      "The Real Value Before Applying The Model Is ==>   [-0.661983633107788, 2.8305628821944953, 0.0596641308880306, 0.2485828589955742, 0.6528253823957215]\n",
      "Predicted Value for Ridge Regression is ==>  [array([-0.5941426], dtype=float32), array([3.5377085], dtype=float32), array([-0.06009632], dtype=float32), array([0.1409198], dtype=float32), array([0.24749613], dtype=float32)]\n",
      "******************************************************************************************\n",
      "The Accuracy Of The Program Is ==>  88.70064001898102\n"
     ]
    }
   ],
   "source": [
    "from sklearn.metrics import confusion_matrix\n",
    "#Calculating Prediction\n",
    "from sklearn.metrics import r2_score\n",
    "y_pred1 = model.predict(x_test)\n",
    "print('The Real Value Before Applying The Model Is ==>  ',list(y_test[:5]))\n",
    "print('Predicted Value for Ridge Regression is ==> ' , list(y_pred1[:5]))\n",
    "print('***'*30)\n",
    "R_Score = r2_score(y_test,y_pred1)\n",
    "print('The Accuracy Of The Program Is ==> ',R_Score*100)"
   ]
  },
  {
   "attachments": {},
   "cell_type": "markdown",
   "metadata": {},
   "source": [
    "# Save Model"
   ]
  },
  {
   "cell_type": "code",
   "execution_count": 105,
   "metadata": {},
   "outputs": [
    {
     "name": "stdout",
     "output_type": "stream",
     "text": [
      "INFO:tensorflow:Assets written to: MultiVariablesLR_with_keras.model\\assets\n"
     ]
    }
   ],
   "source": [
    "model.save('MultiVariablesLR_with_keras.model')"
   ]
  }
 ],
 "metadata": {
  "kernelspec": {
   "display_name": "Python 3",
   "language": "python",
   "name": "python3"
  },
  "language_info": {
   "codemirror_mode": {
    "name": "ipython",
    "version": 3
   },
   "file_extension": ".py",
   "mimetype": "text/x-python",
   "name": "python",
   "nbconvert_exporter": "python",
   "pygments_lexer": "ipython3",
   "version": "3.10.0"
  },
  "orig_nbformat": 4
 },
 "nbformat": 4,
 "nbformat_minor": 2
}
