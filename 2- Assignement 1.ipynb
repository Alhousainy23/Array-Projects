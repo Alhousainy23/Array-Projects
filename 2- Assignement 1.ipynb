{
 "cells": [
  {
   "cell_type": "code",
   "execution_count": 1,
   "metadata": {},
   "outputs": [
    {
     "name": "stdout",
     "output_type": "stream",
     "text": [
      "The Final Result Of The Equation Is ==>  3.320163302951389e-05\n"
     ]
    }
   ],
   "source": [
    "#Assignement One \n",
    "#Inputs \n",
    "G=6.67 * (10 ** -11)\n",
    "M_Earth = 6.0 * (10 ** 24)\n",
    "M_Moon = 7.34 * (10 ** 22)\n",
    "r = 3.84 * ( 10 ** 8)\n",
    "Fg = 1.99 * (10 ** 20)\n",
    "Equation = ((G * M_Moon) / (r ** 2) )\n",
    "print('The Final Result Of The Equation Is ==> ',Equation) "
   ]
  },
  {
   "cell_type": "code",
   "execution_count": 2,
   "metadata": {},
   "outputs": [
    {
     "name": "stdout",
     "output_type": "stream",
     "text": [
      "The Input Number Is ==>  10\n",
      "The Final Result Is ==>  1110\n"
     ]
    }
   ],
   "source": [
    "var1 = int (input('Please Enter The Enteger Number : '))\n",
    "q = var1 + ( var1 * var1 ) + (var1 * var1 * var1)\n",
    "print('The Input Number Is ==> ',var1)\n",
    "print('The Final Result Is ==> ',q)"
   ]
  },
  {
   "cell_type": "code",
   "execution_count": 5,
   "metadata": {},
   "outputs": [
    {
     "name": "stdout",
     "output_type": "stream",
     "text": [
      "The Fisrt Name Is ==>  Alhousainy\n",
      "The Last Name Is ==>  Abdelrahman\n",
      "The Full Name Is ==>  Alhousainy Abdelrahman\n",
      "The Reverse First Name Is ==>  yniasuohlA\n",
      "The Last Name Reverse Is ==>  namharledbA\n",
      "The Reverse Name Is ==>  namharledbA yniasuohlA\n"
     ]
    }
   ],
   "source": [
    "fname = str(input('Please Enter Your First Name : '))\n",
    "lname = str(input('Please Enter Your Last Name  : '))\n",
    "name = fname + ' ' + lname\n",
    "fname_reverse=fname[::-1]\n",
    "lname_reverse=lname[::-1]\n",
    "name_reverse = name[::-1]\n",
    "print('The Fisrt Name Is ==> ',fname)\n",
    "print('The Last Name Is ==> ',lname)\n",
    "print('The Full Name Is ==> ',name)\n",
    "print('The Reverse First Name Is ==> ',fname_reverse)\n",
    "print('The Last Name Reverse Is ==> ',lname_reverse)\n",
    "print('The Reverse Name Is ==> ',name_reverse)"
   ]
  },
  {
   "cell_type": "code",
   "execution_count": 11,
   "metadata": {},
   "outputs": [
    {
     "name": "stdout",
     "output_type": "stream",
     "text": [
      "The Remainder of divison for num1 =  10 over num2 =  3 is =>   1\n"
     ]
    }
   ],
   "source": [
    "num1 = int(input('pLease Enter The First number   :'))\n",
    "num2 = int(input('Please Enter The Second Number  :'))\n",
    "if(num1 > num2 & num1 % num2 == 1): print('The Remainder of divison for num1 = ', num1 ,'over num2 = ' , num2,'is =>  ', (num1 % num2))\n",
    "else : print('Please Try Again!!!!')"
   ]
  },
  {
   "cell_type": "code",
   "execution_count": 1,
   "metadata": {},
   "outputs": [
    {
     "name": "stdout",
     "output_type": "stream",
     "text": [
      "{True, 10, 5, 'Ahmed'}\n"
     ]
    }
   ],
   "source": [
    "s= {'Ahmed',10 ,True,5}\n",
    "print(s)"
   ]
  }
 ],
 "metadata": {
  "kernelspec": {
   "display_name": "Python 3",
   "language": "python",
   "name": "python3"
  },
  "language_info": {
   "codemirror_mode": {
    "name": "ipython",
    "version": 3
   },
   "file_extension": ".py",
   "mimetype": "text/x-python",
   "name": "python",
   "nbconvert_exporter": "python",
   "pygments_lexer": "ipython3",
   "version": "3.10.0"
  },
  "orig_nbformat": 4,
  "vscode": {
   "interpreter": {
    "hash": "f14a256fa5d2abe453c482b40db541c720d938562dda362430172368847a78a4"
   }
  }
 },
 "nbformat": 4,
 "nbformat_minor": 2
}
