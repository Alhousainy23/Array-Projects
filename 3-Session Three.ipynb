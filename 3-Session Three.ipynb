{
 "cells": [
  {
   "cell_type": "code",
   "execution_count": 3,
   "metadata": {},
   "outputs": [
    {
     "name": "stdout",
     "output_type": "stream",
     "text": [
      "('Ahmed', 'Mostafa', True, 100, 65.8)\n",
      "Ahmed\n",
      "Mostafa\n",
      "100\n",
      "['Ali', 'Mostafa', True, 100, 65.8]\n",
      "('Ali', 'Mostafa', True, 100, 65.8)\n"
     ]
    }
   ],
   "source": [
    "T1 = ('Ahmed','Mostafa',True,100 , 65.8)\n",
    "print(T1)\n",
    "print(T1[0])\n",
    "print(T1[1])\n",
    "print(T1[3])\n",
    "T2 = list(T1)\n",
    "T2[0] = 'Ali'\n",
    "T3 =tuple(T2)\n",
    "print(T2)\n",
    "print(T3) "
   ]
  },
  {
   "cell_type": "code",
   "execution_count": 6,
   "metadata": {},
   "outputs": [
    {
     "name": "stdout",
     "output_type": "stream",
     "text": [
      "The Fruit Is ==>  apple\n",
      "The Fruit Is ==>  banana\n",
      "The Fruit Is ==>  cherry\n",
      "******************************************************************************************************************************************************\n",
      "The Character Is ==>  b\n",
      "The Character Is ==>  a\n",
      "The Character Is ==>  n\n",
      "The Character Is ==>  a\n",
      "The Character Is ==>  n\n",
      "The Character Is ==>  a\n",
      "******************************************************************************************************************************************************\n",
      "The Fruit Is ==>  apple\n",
      "The Fruit Is ==>  banana\n",
      "******************************************************************************************************************************************************\n",
      "apple\n",
      "******************************************************************************************************************************************************\n",
      "apple\n",
      "cherry\n",
      "orange\n",
      "******************************************************************************************************************************************************\n"
     ]
    }
   ],
   "source": [
    "#For Loop Example\n",
    "#Looping Over List Items\n",
    "fruits = ['apple','banana','cherry'] \n",
    "for i in fruits:\n",
    "    print('The Fruit Is ==> ',i)\n",
    "print('***'*50)\n",
    "#Looping For String\n",
    "for x in 'banana':\n",
    "    print('The Character Is ==> ',x)\n",
    "print('***'*50)\n",
    "fruits_1 = ['apple','banana','cherry','orange']\n",
    "for i in fruits_1:\n",
    "    print('The Fruit Is ==> ',i) \n",
    "    if i == 'banana':\n",
    "        break\n",
    "print('***'*50)\n",
    "for j in fruits_1:\n",
    "    if j == 'banana':\n",
    "        break\n",
    "    print(j)\n",
    "print('***'*50)\n",
    "for j in fruits_1:\n",
    "    if j == 'banana':\n",
    "        continue\n",
    "    print(j)\n",
    "print('***'*50)"
   ]
  },
  {
   "cell_type": "code",
   "execution_count": 10,
   "metadata": {},
   "outputs": [
    {
     "name": "stdout",
     "output_type": "stream",
     "text": [
      "0\n",
      "1\n",
      "2\n",
      "3\n",
      "4\n",
      "****************************************\n",
      "2\n",
      "5\n",
      "8\n",
      "11\n",
      "14\n",
      "17\n",
      "20\n",
      "23\n",
      "26\n",
      "29\n",
      "****************************************\n"
     ]
    }
   ],
   "source": [
    "for x in range (5):\n",
    "    print(x)\n",
    "print('**'*20)\n",
    "for x in range(2,30,3):\n",
    "    print(x)\n",
    "print('**'*20)"
   ]
  },
  {
   "cell_type": "code",
   "execution_count": 11,
   "metadata": {},
   "outputs": [
    {
     "name": "stdout",
     "output_type": "stream",
     "text": [
      "The Adj Is ==>  red  and fruit is ==>  apple\n",
      "The Adj Is ==>  red  and fruit is ==>  banana\n",
      "The Adj Is ==>  red  and fruit is ==>  cherry\n",
      "The Adj Is ==>  big  and fruit is ==>  apple\n",
      "The Adj Is ==>  big  and fruit is ==>  banana\n",
      "The Adj Is ==>  big  and fruit is ==>  cherry\n",
      "The Adj Is ==>  tasty  and fruit is ==>  apple\n",
      "The Adj Is ==>  tasty  and fruit is ==>  banana\n",
      "The Adj Is ==>  tasty  and fruit is ==>  cherry\n"
     ]
    }
   ],
   "source": [
    "#Nestead Loop \n",
    "adj=['red','big','tasty']\n",
    "fruits=['apple','banana','cherry']\n",
    "for x in adj:\n",
    "    for i in fruits:\n",
    "        print('The Adj Is ==> ',x, ' and fruit is ==> ',i)\n"
   ]
  },
  {
   "cell_type": "code",
   "execution_count": 14,
   "metadata": {},
   "outputs": [],
   "source": [
    "#Nestead Loop \n",
    "adj=['red','big','tasty']\n",
    "fruits=['apple','banana','cherry']\n",
    "for x in adj:\n",
    "    for i in fruits:\n",
    "       pass"
   ]
  },
  {
   "cell_type": "code",
   "execution_count": 15,
   "metadata": {},
   "outputs": [
    {
     "name": "stdout",
     "output_type": "stream",
     "text": [
      "1\n",
      "2\n",
      "3\n"
     ]
    }
   ],
   "source": [
    "i= 1\n",
    "while i<=5:\n",
    "    print(i)\n",
    "    if i ==3:\n",
    "        break\n",
    "    i+=1"
   ]
  },
  {
   "cell_type": "code",
   "execution_count": 17,
   "metadata": {},
   "outputs": [
    {
     "name": "stdout",
     "output_type": "stream",
     "text": [
      "2\n",
      "4\n",
      "5\n",
      "6\n"
     ]
    }
   ],
   "source": [
    "i= 1\n",
    "while i<=5:\n",
    "    i+=1\n",
    "    if i ==3:\n",
    "        continue\n",
    "    print(i)"
   ]
  },
  {
   "cell_type": "code",
   "execution_count": 3,
   "metadata": {},
   "outputs": [
    {
     "name": "stdout",
     "output_type": "stream",
     "text": [
      "The Number Is Not Divided Over 3 and 5  ==>  1\n",
      "The Number Is Not Divided Over 3 and 5  ==>  2\n",
      "Fizz\n",
      "The Number Is Not Divided Over 3 and 5  ==>  4\n",
      "Buzz\n",
      "Fizz\n",
      "The Number Is Not Divided Over 3 and 5  ==>  7\n",
      "The Number Is Not Divided Over 3 and 5  ==>  8\n",
      "Fizz\n",
      "Buzz\n",
      "The Number Is Not Divided Over 3 and 5  ==>  11\n",
      "Fizz\n",
      "The Number Is Not Divided Over 3 and 5  ==>  13\n",
      "The Number Is Not Divided Over 3 and 5  ==>  14\n",
      "Fizz\n",
      "The Number Is Not Divided Over 3 and 5  ==>  16\n",
      "The Number Is Not Divided Over 3 and 5  ==>  17\n",
      "Fizz\n",
      "The Number Is Not Divided Over 3 and 5  ==>  19\n",
      "Buzz\n",
      "Fizz\n",
      "The Number Is Not Divided Over 3 and 5  ==>  22\n",
      "The Number Is Not Divided Over 3 and 5  ==>  23\n",
      "Fizz\n",
      "Buzz\n",
      "The Number Is Not Divided Over 3 and 5  ==>  26\n",
      "Fizz\n",
      "The Number Is Not Divided Over 3 and 5  ==>  28\n",
      "The Number Is Not Divided Over 3 and 5  ==>  29\n",
      "Fizz\n",
      "The Number Is Not Divided Over 3 and 5  ==>  31\n",
      "The Number Is Not Divided Over 3 and 5  ==>  32\n",
      "Fizz\n",
      "The Number Is Not Divided Over 3 and 5  ==>  34\n",
      "Buzz\n",
      "Fizz\n",
      "The Number Is Not Divided Over 3 and 5  ==>  37\n",
      "The Number Is Not Divided Over 3 and 5  ==>  38\n",
      "Fizz\n",
      "Buzz\n",
      "The Number Is Not Divided Over 3 and 5  ==>  41\n",
      "Fizz\n",
      "The Number Is Not Divided Over 3 and 5  ==>  43\n",
      "The Number Is Not Divided Over 3 and 5  ==>  44\n",
      "Fizz\n",
      "The Number Is Not Divided Over 3 and 5  ==>  46\n",
      "The Number Is Not Divided Over 3 and 5  ==>  47\n",
      "Fizz\n",
      "The Number Is Not Divided Over 3 and 5  ==>  49\n",
      "Buzz\n",
      "Fizz\n",
      "The Number Is Not Divided Over 3 and 5  ==>  52\n",
      "The Number Is Not Divided Over 3 and 5  ==>  53\n",
      "Fizz\n",
      "Buzz\n",
      "The Number Is Not Divided Over 3 and 5  ==>  56\n",
      "Fizz\n",
      "The Number Is Not Divided Over 3 and 5  ==>  58\n",
      "The Number Is Not Divided Over 3 and 5  ==>  59\n",
      "Fizz\n",
      "The Number Is Not Divided Over 3 and 5  ==>  61\n",
      "The Number Is Not Divided Over 3 and 5  ==>  62\n",
      "Fizz\n",
      "The Number Is Not Divided Over 3 and 5  ==>  64\n",
      "Buzz\n",
      "Fizz\n",
      "The Number Is Not Divided Over 3 and 5  ==>  67\n",
      "The Number Is Not Divided Over 3 and 5  ==>  68\n",
      "Fizz\n",
      "Buzz\n",
      "The Number Is Not Divided Over 3 and 5  ==>  71\n",
      "Fizz\n",
      "The Number Is Not Divided Over 3 and 5  ==>  73\n",
      "The Number Is Not Divided Over 3 and 5  ==>  74\n",
      "Fizz\n",
      "The Number Is Not Divided Over 3 and 5  ==>  76\n",
      "The Number Is Not Divided Over 3 and 5  ==>  77\n",
      "Fizz\n",
      "The Number Is Not Divided Over 3 and 5  ==>  79\n",
      "Buzz\n",
      "Fizz\n",
      "The Number Is Not Divided Over 3 and 5  ==>  82\n",
      "The Number Is Not Divided Over 3 and 5  ==>  83\n",
      "Fizz\n",
      "Buzz\n",
      "The Number Is Not Divided Over 3 and 5  ==>  86\n",
      "Fizz\n",
      "The Number Is Not Divided Over 3 and 5  ==>  88\n",
      "The Number Is Not Divided Over 3 and 5  ==>  89\n",
      "Fizz\n",
      "The Number Is Not Divided Over 3 and 5  ==>  91\n",
      "The Number Is Not Divided Over 3 and 5  ==>  92\n",
      "Fizz\n",
      "The Number Is Not Divided Over 3 and 5  ==>  94\n",
      "Buzz\n",
      "Fizz\n",
      "The Number Is Not Divided Over 3 and 5  ==>  97\n",
      "The Number Is Not Divided Over 3 and 5  ==>  98\n",
      "Fizz\n",
      "Buzz\n"
     ]
    }
   ],
   "source": [
    "for i in range (1,101):\n",
    "    if i % 3 == 0:print ('Fizz')   \n",
    "    elif i% 5 == 0:print('Buzz')   \n",
    "    elif i % 3 == 0 and i % 5 == 0 :print('FizzBuzz')     \n",
    "    else :print('The Number Is Not Divided Over 3 and 5  ==> ',i)\n",
    "         \n"
   ]
  },
  {
   "cell_type": "code",
   "execution_count": 22,
   "metadata": {},
   "outputs": [
    {
     "name": "stdout",
     "output_type": "stream",
     "text": [
      "False\n"
     ]
    }
   ],
   "source": [
    "var1 = str(input())\n",
    "var2 =str(input())\n",
    "if var1[0] == var2 [0]: print('True')\n",
    "else : print('False')"
   ]
  },
  {
   "cell_type": "code",
   "execution_count": 24,
   "metadata": {},
   "outputs": [
    {
     "data": {
      "text/plain": [
       "475.0506000000001"
      ]
     },
     "execution_count": 24,
     "metadata": {},
     "output_type": "execute_result"
    }
   ],
   "source": [
    "def circle_area(r):\n",
    "    pi = 3.14\n",
    "    return pi * (r ** 2)\n",
    "num = float(input())\n",
    "circle_area(num)"
   ]
  },
  {
   "cell_type": "code",
   "execution_count": 5,
   "metadata": {},
   "outputs": [
    {
     "name": "stdout",
     "output_type": "stream",
     "text": [
      "******************************************************************************************************************************************************\n",
      "The List Of Numbers IS Divided To 3 Is  ==>  [3, 6, 9, 12, 15, 18, 21, 24, 27, 30, 33, 36, 39, 42, 45, 48, 51, 54, 57, 60, 63, 66, 69, 72, 75, 78, 81, 84, 87, 90, 93, 96, 99]\n",
      "The List Of Numbers IS Divided To 5 Is  ==>  [5, 10, 20, 25, 35, 40, 50, 55, 65, 70, 80, 85, 95, 100]\n",
      "The List Of Numbers IS Divided To 3 & 5 Is  ==>  []\n",
      "The List Of Numbers IS Not Divided To 3 & 5 Is  ==>  [1, 2, 4, 7, 8, 11, 13, 14, 16, 17, 19, 22, 23, 26, 28, 29, 31, 32, 34, 37, 38, 41, 43, 44, 46, 47, 49, 52, 53, 56, 58, 59, 61, 62, 64, 67, 68, 71, 73, 74, 76, 77, 79, 82, 83, 86, 88, 89, 91, 92, 94, 97, 98]\n"
     ]
    }
   ],
   "source": [
    "l1=[]\n",
    "l2=[]\n",
    "l4=[]\n",
    "for i in range (1,101):\n",
    "    if i % 3 == 0:l1.append(i)\n",
    "    elif i% 5 == 0:l2.append(i)\n",
    "    elif i % 3 == 0 and i % 5 == 0 :\n",
    "        l3=[]\n",
    "        l3.append(i)\n",
    "    else :l4.append(i)\n",
    "print('***'*50)\n",
    "print('The List Of Numbers IS Divided To 3 Is  ==> ',l1)\n",
    "print('The List Of Numbers IS Divided To 5 Is  ==> ',l2)\n",
    "print('The List Of Numbers IS Divided To 3 & 5 Is  ==> ',l3)\n",
    "print('The List Of Numbers IS Not Divided To 3 & 5 Is  ==> ',l4)"
   ]
  },
  {
   "cell_type": "code",
   "execution_count": 6,
   "metadata": {},
   "outputs": [
    {
     "name": "stdout",
     "output_type": "stream",
     "text": [
      "The Facorial Number (  5  ) is ==>  120\n"
     ]
    }
   ],
   "source": [
    "factorial =1\n",
    "num =int(input())\n",
    "for i in range (1 ,num+1):\n",
    "    factorial =factorial * i\n",
    "print('The Facorial Number ( ', num , ' )','is ==> ',factorial) "
   ]
  },
  {
   "cell_type": "code",
   "execution_count": 7,
   "metadata": {},
   "outputs": [
    {
     "name": "stdout",
     "output_type": "stream",
     "text": [
      "\n",
      " The fibonacci sequence is :\n",
      "0 , 1, 1, 2, 3, 5, 8, 13, 21, 34, "
     ]
    }
   ],
   "source": [
    "nterms = int(input(\"Enter a number: \")) \n",
    "n1 = 0\n",
    "n2 = 1 \n",
    "print(\"\\n The fibonacci sequence is :\")\n",
    "print(n1, \",\", n2, end=\", \") \n",
    "for i in range(2, nterms):\n",
    "  next = n1 + n2\n",
    "  print(next, end=\", \") \n",
    "  n1 = n2\n",
    "  n2 = next"
   ]
  },
  {
   "cell_type": "code",
   "execution_count": 10,
   "metadata": {},
   "outputs": [
    {
     "name": "stdout",
     "output_type": "stream",
     "text": [
      "The List Is ==> [1, 1, 2, 3, 5, 8, 13, 21, 34, 55, 89, 144, 233, 377, 610]\n"
     ]
    }
   ],
   "source": [
    "def fibon(n):\n",
    "    a=b=1\n",
    "    result=[]\n",
    "    for i in range(n):\n",
    "        result.append(a)\n",
    "        a,b=b,a+b\n",
    "    return result\n",
    "\n",
    "num10=int(input('Please Enter The Fibon Number : '))\n",
    "print('The List Is ==>',fibon(num10))"
   ]
  },
  {
   "cell_type": "code",
   "execution_count": 11,
   "metadata": {},
   "outputs": [
    {
     "name": "stdout",
     "output_type": "stream",
     "text": [
      "6\n"
     ]
    }
   ],
   "source": [
    "y = lambda x , function1 : x + function1(x)\n",
    "print(y ( 2 , lambda x : x * x ))"
   ]
  },
  {
   "cell_type": "code",
   "execution_count": null,
   "metadata": {},
   "outputs": [],
   "source": []
  }
 ],
 "metadata": {
  "kernelspec": {
   "display_name": "Python 3",
   "language": "python",
   "name": "python3"
  },
  "language_info": {
   "codemirror_mode": {
    "name": "ipython",
    "version": 3
   },
   "file_extension": ".py",
   "mimetype": "text/x-python",
   "name": "python",
   "nbconvert_exporter": "python",
   "pygments_lexer": "ipython3",
   "version": "3.10.6 (tags/v3.10.6:9c7b4bd, Aug  1 2022, 21:53:49) [MSC v.1932 64 bit (AMD64)]"
  },
  "orig_nbformat": 4,
  "vscode": {
   "interpreter": {
    "hash": "4b9f101850c67e49d0d8461a88159b16436e7850b7b01b32dcbf2903f9255fd2"
   }
  }
 },
 "nbformat": 4,
 "nbformat_minor": 2
}
