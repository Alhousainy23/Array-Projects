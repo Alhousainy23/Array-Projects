{
 "cells": [
  {
   "cell_type": "code",
   "execution_count": 18,
   "metadata": {},
   "outputs": [
    {
     "name": "stdout",
     "output_type": "stream",
     "text": [
      "7\n",
      "3\n",
      "****************************************\n",
      "512\n",
      "64\n",
      "512\n",
      "[4, 3]\n",
      "****************************************\n",
      "0\n",
      "1\n",
      "2\n",
      "3\n",
      "****************************************\n",
      "9.0\n",
      "****************************************\n",
      "4\n",
      "4\n",
      "3\n",
      "2\n",
      "1\n",
      "****************************************\n",
      "<class 'int'>\n",
      "<class 'str'>\n"
     ]
    },
    {
     "data": {
      "text/plain": [
       "'  \\na = [1, 2, 3]\\na = tuple(a)\\na[0] = 2\\nprint(a)#Error\\n'"
      ]
     },
     "execution_count": 18,
     "metadata": {},
     "output_type": "execute_result"
    }
   ],
   "source": [
    "print(4 + 3 % 5)\n",
    "print(3 %5)\n",
    "print('**'*20)\n",
    "i = 1\n",
    "'''  \n",
    "while True:\n",
    "    if i%3 == 0:\n",
    "        break\n",
    "    print(i)\n",
    "    i += 1''' #Error\n",
    "import math as m \n",
    "print(2**(3**2))\n",
    "print((2**3)**2)\n",
    "print(2**3**2)\n",
    "list1 = [1, 3]\n",
    "list2 = list1\n",
    "list1[0] = 4\n",
    "print(list2)\n",
    "print('**'*20)\n",
    "x = 'abcd'\n",
    "for i in range(len(x)):\n",
    "    print(i)\n",
    "print('**'*20)    \n",
    "print(m.pow(3, 2))\n",
    "print('**'*20)\n",
    "print(len([\"hello\",2, 4, 6]))\n",
    "for i in [1, 2, 3, 4][::-1]:\n",
    "    print (i)\n",
    "print('**'*20)\n",
    "var = 10\n",
    "print(type(var))\n",
    "var = \"Hello\"\n",
    "print(type(var))\n",
    "'''  \n",
    "a = [1, 2, 3]\n",
    "a = tuple(a)\n",
    "a[0] = 2\n",
    "print(a)#Error\n",
    "'''"
   ]
  },
  {
   "cell_type": "code",
   "execution_count": null,
   "metadata": {},
   "outputs": [],
   "source": []
  }
 ],
 "metadata": {
  "kernelspec": {
   "display_name": "Python 3",
   "language": "python",
   "name": "python3"
  },
  "language_info": {
   "codemirror_mode": {
    "name": "ipython",
    "version": 3
   },
   "file_extension": ".py",
   "mimetype": "text/x-python",
   "name": "python",
   "nbconvert_exporter": "python",
   "pygments_lexer": "ipython3",
   "version": "3.10.0 (tags/v3.10.0:b494f59, Oct  4 2021, 19:00:18) [MSC v.1929 64 bit (AMD64)]"
  },
  "orig_nbformat": 4,
  "vscode": {
   "interpreter": {
    "hash": "26de051ba29f2982a8de78e945f0abaf191376122a1563185a90213a26c5da77"
   }
  }
 },
 "nbformat": 4,
 "nbformat_minor": 2
}
