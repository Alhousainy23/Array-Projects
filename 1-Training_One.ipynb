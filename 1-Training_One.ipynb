{
 "cells": [
  {
   "cell_type": "code",
   "execution_count": 15,
   "metadata": {},
   "outputs": [
    {
     "name": "stdout",
     "output_type": "stream",
     "text": [
      "num1 =  10 & num2 = 20 & num3 = 5\n",
      "The Result Is is ==>  10 * 20 * 5 = 1000\n"
     ]
    }
   ],
   "source": [
    "#Please Enter Your Numbers\n",
    "num1=int(input('Please Enter Your Number : '))\n",
    "num2 = int(input('Please Enter Your Number : '))\n",
    "num3 = int(input('Please Enter Your Number : '))\n",
    "print('num1 = ',num1,'&','num2 =',num2,'&','num3 =', num3)\n",
    "print('The Result Is is ==> ',num1,'*', num2,'*',num3,'=' ,num1 * num2 * num3)\n"
   ]
  },
  {
   "cell_type": "code",
   "execution_count": 9,
   "metadata": {},
   "outputs": [
    {
     "name": "stdout",
     "output_type": "stream",
     "text": [
      "Name,Is,James\n",
      "Name**Is**James\n"
     ]
    }
   ],
   "source": [
    "user ='Name'\n",
    "user1= 'Is'\n",
    "user3='James'\n",
    "print(user,user1,user3,sep=',')\n",
    "print(user,user1,user3,sep='**')"
   ]
  },
  {
   "cell_type": "code",
   "execution_count": 18,
   "metadata": {},
   "outputs": [
    {
     "name": "stdout",
     "output_type": "stream",
     "text": [
      "ahmed mostafa ali\n"
     ]
    }
   ],
   "source": [
    "s,y,z=input().split()\n",
    "print(s , y , z)"
   ]
  },
  {
   "cell_type": "code",
   "execution_count": 21,
   "metadata": {},
   "outputs": [
    {
     "name": "stdout",
     "output_type": "stream",
     "text": [
      "num1 =  10 & num2 = 5 & num3 = 3\n",
      "The Result Is is ==>  10 * 5 * 3  =  150\n"
     ]
    }
   ],
   "source": [
    "#Please Enter Your Numbers\n",
    "num1,num2,num3=input().split()\n",
    "r = int(num1) * int (num2) * int(num3)\n",
    "print('num1 = ',num1,'&','num2 =',num2,'&','num3 =', num3)\n",
    "print('The Result Is is ==> ',num1,'*', num2,'*',num3 , ' = ',r )\n"
   ]
  },
  {
   "cell_type": "code",
   "execution_count": 23,
   "metadata": {},
   "outputs": [
    {
     "name": "stdout",
     "output_type": "stream",
     "text": [
      "Sum =  15\n",
      "Product =  50\n"
     ]
    }
   ],
   "source": [
    "num1,num2=input().split()\n",
    "sum=int(num1) +int(num2)\n",
    "product=int(num1) * int(num2)\n",
    "print('Sum = ',sum)\n",
    "print('Product = ' ,product)"
   ]
  },
  {
   "cell_type": "code",
   "execution_count": 26,
   "metadata": {},
   "outputs": [
    {
     "name": "stdout",
     "output_type": "stream",
     "text": [
      "The Radius For The User Input Is ==>  2.5\n",
      "The Area Of Circle is =  19.634954084936208\n",
      "The Area Of Circle is =  19.625\n"
     ]
    }
   ],
   "source": [
    "#Calculate The Area Of Circle \n",
    "import math as m \n",
    "radius = float(input())\n",
    "Area = m.pi * m.pow(radius,2)\n",
    "print('The Radius For The User Input Is ==> ',radius)\n",
    "print('The Area Of Circle is = ',Area)\n",
    "print('The Area Of Circle is = ',(3.14 * (radius **2)))"
   ]
  },
  {
   "cell_type": "code",
   "execution_count": 2,
   "metadata": {},
   "outputs": [
    {
     "name": "stdout",
     "output_type": "stream",
     "text": [
      "Hello From Array Machine Learning Diploma\n",
      "3 2 Alaa True 5.3\n"
     ]
    }
   ],
   "source": [
    "print('Hello From Array Machine Learning Diploma')\n",
    "print(3,2,'Alaa',True,5.3)"
   ]
  },
  {
   "cell_type": "code",
   "execution_count": null,
   "metadata": {},
   "outputs": [],
   "source": []
  }
 ],
 "metadata": {
  "kernelspec": {
   "display_name": "Python 3.10.6 64-bit",
   "language": "python",
   "name": "python3"
  },
  "language_info": {
   "codemirror_mode": {
    "name": "ipython",
    "version": 3
   },
   "file_extension": ".py",
   "mimetype": "text/x-python",
   "name": "python",
   "nbconvert_exporter": "python",
   "pygments_lexer": "ipython3",
   "version": "3.10.6 (tags/v3.10.6:9c7b4bd, Aug  1 2022, 21:53:49) [MSC v.1932 64 bit (AMD64)]"
  },
  "orig_nbformat": 4,
  "vscode": {
   "interpreter": {
    "hash": "4b9f101850c67e49d0d8461a88159b16436e7850b7b01b32dcbf2903f9255fd2"
   }
  }
 },
 "nbformat": 4,
 "nbformat_minor": 2
}
